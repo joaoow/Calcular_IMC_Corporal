{
  "nbformat": 4,
  "nbformat_minor": 0,
  "metadata": {
    "colab": {
      "provenance": []
    },
    "kernelspec": {
      "name": "python3",
      "display_name": "Python 3"
    },
    "language_info": {
      "name": "python"
    }
  },
  "cells": [
    {
      "cell_type": "code",
      "execution_count": 1,
      "metadata": {
        "colab": {
          "base_uri": "https://localhost:8080/"
        },
        "id": "ypdwt3a_GZQu",
        "outputId": "99814e5a-2160-459e-83d5-78625257f52e"
      },
      "outputs": [
        {
          "output_type": "stream",
          "name": "stdout",
          "text": [
            "Digite seu peso: 54\n",
            "Digite sua altura: 1.75\n",
            "IMC =  17.632653061224488\n"
          ]
        }
      ],
      "source": [
        "peso = eval(input('Digite seu peso: '))\n",
        "altura = eval(input('Digite sua altura: '))\n",
        "imc = peso/(altura**2)\n",
        "print ('IMC = ', imc)\n"
      ]
    }
  ]
}